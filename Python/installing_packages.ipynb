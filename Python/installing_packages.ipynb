{
 "cells": [
  {
   "cell_type": "markdown",
   "metadata": {},
   "source": [
    "# Installing a Python Package via Anaconda\n",
    "\n",
    "\n",
    "<div>\n",
    "<img src=\"images/anaconda_logo.png\" width=\"700\"/>\n",
    "</div>"
   ]
  },
  {
   "cell_type": "markdown",
   "metadata": {},
   "source": [
    "### 1) Launch Anaconda Navigator\n",
    "\n",
    "<div>\n",
    "<img src=\"images/navigator_logo.png\" width=\"200\"/>\n",
    "</div>\n",
    "\n",
    "<div>\n",
    "<img src=\"images/navigator1.png\" width=\"900\"/>\n",
    "</div>"
   ]
  },
  {
   "cell_type": "markdown",
   "metadata": {},
   "source": [
    "### 2) Go to Environments\n",
    "\n",
    ".\n",
    "\n",
    "<div>\n",
    "<img src=\"images/environment1.png\" width=\"900\"/>\n",
    "</div>"
   ]
  },
  {
   "cell_type": "markdown",
   "metadata": {},
   "source": [
    "### 3) Check if the `cartopy` package is installed\n",
    "\n",
    ".\n",
    "\n",
    "<div>\n",
    "<img src=\"images/check_package.png\" width=\"900\"/>\n",
    "</div>"
   ]
  },
  {
   "cell_type": "markdown",
   "metadata": {},
   "source": [
    "**It's not installed! Let's check if it's located under our \"Not Installed\" common set of packages**"
   ]
  },
  {
   "cell_type": "markdown",
   "metadata": {},
   "source": [
    ".\n",
    "\n",
    "<div>\n",
    "<img src=\"images/notinstalled.png\" width=\"900\"/>\n",
    "</div>"
   ]
  },
  {
   "cell_type": "markdown",
   "metadata": {},
   "source": [
    "**There it is! Simply select 'cartopy' and then click 'Apply' to install the package under the highlighted environment**\n",
    "\n",
    "\n",
    "\n",
    "\n",
    "\n",
    "."
   ]
  },
  {
   "cell_type": "markdown",
   "metadata": {},
   "source": [
    "# What if the package isn't under the \"Not Installed\" common set of packages?\n",
    "\n",
    "\n",
    "### We need to install by hand. Select the 'Open in Terminal' option like so...\n",
    ".\n",
    "\n",
    "<div>\n",
    "<img src=\"images/terminal_install1.png\" width=\"900\"/>\n",
    "</div>"
   ]
  },
  {
   "cell_type": "markdown",
   "metadata": {},
   "source": [
    "**The terminal will open. A terminal allows you to speak directly to the computer, thus erasing 'Anaconda Navigator' as the middle man for the package we successfully installed above**\n",
    "\n",
    ".\n",
    "\n",
    "<div>\n",
    "<img src=\"images/launced_terminal.png\" width=\"900\"/>\n",
    "</div>"
   ]
  },
  {
   "cell_type": "markdown",
   "metadata": {},
   "source": [
    "### Google search the desired package\n",
    "\n",
    ".\n",
    "\n",
    "<div>\n",
    "<img src=\"images/googlesearch1.png\" width=\"900\"/>\n",
    "</div>"
   ]
  },
  {
   "cell_type": "markdown",
   "metadata": {},
   "source": [
    "### Find Anaconda Cloud Link\n",
    "\n",
    ".\n",
    "\n",
    "<div>\n",
    "<img src=\"images/googlesearch2.png\" width=\"900\"/>\n",
    "</div>"
   ]
  },
  {
   "cell_type": "markdown",
   "metadata": {},
   "source": [
    "### Select top line to run in terminal\n",
    "\n",
    ".\n",
    "\n",
    "<div>\n",
    "<img src=\"images/googlesearch3.png\" width=\"900\"/>\n",
    "</div>"
   ]
  },
  {
   "cell_type": "markdown",
   "metadata": {},
   "source": [
    "### Paste in Terminal and Run! (hit enter)\n",
    "\n",
    ".\n",
    "\n",
    "<div>\n",
    "<img src=\"images/paste_cartopy.png\" width=\"900\"/>\n",
    "</div>\n",
    "\n",
    "This is equivalent to you selecting a package under 'Not Installed' and clicking 'Apply' to install it!"
   ]
  },
  {
   "cell_type": "markdown",
   "metadata": {},
   "source": [
    "# Important Notes & Rules"
   ]
  },
  {
   "cell_type": "markdown",
   "metadata": {},
   "source": [
    "1) When you install a new package, new packages will be downloaded. Sometimes existing packages will be upgraded, and sometimes they'll be **downgraded**. **Downgraded** can sometimes cause real issues between packages. If this happens, create a new environment and install the new package *first*. \n",
    "\n",
    "##### Note that if the 'downgraded' packages are 'anaconda' or 'conda' related packages, these likely won't hurt any packages you already have installed. You can ignore these related packages and proceed. "
   ]
  },
  {
   "cell_type": "markdown",
   "metadata": {},
   "source": [
    "2) Sometimes you'll see packages being **SUPERSEDED BY HIGHER PRIORITY CHANNEL**. All this means is that anaconda recognizes you're downloading certain packages from a source that isn't as high on the priority list as another one. This doesn't normally cause any issues. \n",
    "\n",
    "3) `conda install -c conda-forge cartopy` vs. `conda install -c cartopy` is an example of two different \"Channels\" that you can download the `cartopy` library from. Conda-forge is very high on the priority list and is often considered equal to just plain old anaconda channels. \n",
    "\n"
   ]
  },
  {
   "cell_type": "code",
   "execution_count": null,
   "metadata": {},
   "outputs": [],
   "source": []
  }
 ],
 "metadata": {
  "kernelspec": {
   "display_name": "Python 3",
   "language": "python",
   "name": "python3"
  },
  "language_info": {
   "codemirror_mode": {
    "name": "ipython",
    "version": 3
   },
   "file_extension": ".py",
   "mimetype": "text/x-python",
   "name": "python",
   "nbconvert_exporter": "python",
   "pygments_lexer": "ipython3",
   "version": "3.6.9"
  }
 },
 "nbformat": 4,
 "nbformat_minor": 2
}
