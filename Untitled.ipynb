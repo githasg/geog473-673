{
 "cells": [
  {
   "cell_type": "markdown",
   "metadata": {},
   "source": [
    "| Programming Name | Definition | Example |\n",
    "|---|---|---|\n",
    "| Array | Ordered collection of data items | timestamps for Oct 1, 2019 |\n",
    "| Vector | 1 dimensional array | temperature data for Newark, DE |\n",
    "| Matrix | 2 dimensional array | tree cover density of USA at 1km resolution |"
   ]
  },
  {
   "cell_type": "markdown",
   "metadata": {},
   "source": [
    "### Plotting\n",
    "| Function | Definition | \n",
    "|---|---|\n",
    "| Dataset.plot | Access plotting functions for Datasets. |\n",
    "| plot.scatter(ds, x, y, ax, \\*\\*kwargs) | Scatter Dataset data variables against each other.|\n",
    "| DataArray.plot | Access plotting functions for DataArray’s |\n",
    "| plot.plot(darray[, row, col, col_wrap, ax, …]) | Default plot of DataArray using matplotlib.pyplot.|\n",
    "| plot.contourf(x, y, z, ax, \\*\\*kwargs)| Filled contour plot of 2d DataArray|\n",
    "| plot.contour(x, y, z, ax, \\*\\*kwargs)| Contour plot of 2d DataArray|\n",
    "| plot.hist(darray[, figsize, size, aspect, …])| Histogram of DataArray|\n",
    "| plot.imshow(x, y, z, ax, \\*\\*kwargs) | Image plot of 2d DataArray using matplotlib.pyplot|\n",
    "| plot.line(darray, \\*args[, row, col, …])| Line plot of DataArray index against values|\n",
    "| plot.pcolormesh(x, y, z, ax[, infer_intervals]) | Pseudocolor plot of 2d DataArray|\n",
    "| plot.FacetGrid(data[, col, row, col_wrap, …]) | Initialize the matplotlib figure and FacetGrid object.|"
   ]
  },
  {
   "cell_type": "code",
   "execution_count": null,
   "metadata": {},
   "outputs": [],
   "source": []
  }
 ],
 "metadata": {
  "kernelspec": {
   "display_name": "Python 3",
   "language": "python",
   "name": "python3"
  },
  "language_info": {
   "codemirror_mode": {
    "name": "ipython",
    "version": 3
   },
   "file_extension": ".py",
   "mimetype": "text/x-python",
   "name": "python",
   "nbconvert_exporter": "python",
   "pygments_lexer": "ipython3",
   "version": "3.6.9"
  }
 },
 "nbformat": 4,
 "nbformat_minor": 2
}
